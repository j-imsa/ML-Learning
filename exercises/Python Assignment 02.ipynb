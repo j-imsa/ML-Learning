{
 "cells": [
  {
   "cell_type": "markdown",
   "id": "c63a84c7",
   "metadata": {},
   "source": [
    "# Data-Hub\n",
    "## python assignment 02\n",
    "### Iman Salehi"
   ]
  },
  {
   "cell_type": "markdown",
   "id": "758b4b98",
   "metadata": {},
   "source": [
    "Q1:"
   ]
  },
  {
   "cell_type": "code",
   "execution_count": null,
   "id": "292bad2a",
   "metadata": {},
   "outputs": [],
   "source": [
    "def python_assignment_02_q1():\n",
    "    length = 5\n",
    "    numbers = []\n",
    "\n",
    "    # get input\n",
    "    while len(numbers) != length:\n",
    "        while True:\n",
    "            line = input('Enter a number: ')\n",
    "            try:\n",
    "                numbers.append(float(line))\n",
    "                break\n",
    "            except:\n",
    "                print('Entered value is NOT valid! Try again...')\n",
    "\n",
    "    # sort list\n",
    "    numbers.sort()\n",
    "\n",
    "    # calc sum of 2nd-max and 3rd-min, and mean\n",
    "    n1 = numbers[len(numbers)-2] + numbers[2]\n",
    "    n2 = sum(numbers)/len(numbers)\n",
    "\n",
    "    # show result\n",
    "    print(numbers)\n",
    "    print(f'sum of 2nd-max and 3rd-min : {n1}')\n",
    "    print(f'mean : {n2}')\n",
    "    print(n1 > n2)\n",
    "    \n",
    "if __name__ == '__main__':\n",
    "    python_assignment_02_q1()"
   ]
  },
  {
   "cell_type": "markdown",
   "id": "569d6d80",
   "metadata": {},
   "source": [
    "Q2:"
   ]
  },
  {
   "cell_type": "code",
   "execution_count": null,
   "id": "224211cd",
   "metadata": {},
   "outputs": [],
   "source": [
    "def python_assignment_02_q2():\n",
    "    word = 'P@#yn26at^&i5ve'\n",
    "\n",
    "    # Pre-Processing\n",
    "    word = word.lower()\n",
    "\n",
    "    # ASCII values of characters are: [97 , 122]\n",
    "    characters = 0\n",
    "    # ASCII values of numbers are: [48 , 57]\n",
    "    numbers = 0\n",
    "    # ASCII values of special_characters are: All ascii code - (numbers+characters)\n",
    "    special_characters = 0\n",
    "\n",
    "    for item in word:\n",
    "        if 97 <= ord(item) <= 122:\n",
    "            characters += 1\n",
    "        elif 48 <= ord(item) <= 57:\n",
    "            numbers += 1\n",
    "        else:\n",
    "            special_characters += 1\n",
    "\n",
    "    print(f'characters count: {characters}')\n",
    "    print(f'numbers count: {numbers}')\n",
    "    print(f'special characters count: {special_characters}')\n",
    "\n",
    "if __name__ == '__main__':\n",
    "    python_assignment_02_q2()"
   ]
  },
  {
   "cell_type": "markdown",
   "id": "873c83d8",
   "metadata": {},
   "source": [
    "Q3:"
   ]
  },
  {
   "cell_type": "code",
   "execution_count": null,
   "id": "8b0bab0f",
   "metadata": {},
   "outputs": [],
   "source": [
    "def print_list_order(lst):\n",
    "    count = 0\n",
    "    for i in lst:\n",
    "        count += 1\n",
    "        print(f'{count} -> {i}')\n",
    "\n",
    "        \n",
    "def custom_comparator(gholam, ghamar):\n",
    "    if len(gholam) > len(ghamar):\n",
    "        lower = ghamar\n",
    "    else:\n",
    "        lower = gholam\n",
    "\n",
    "    for i in range(0, len(lower)):\n",
    "        if gholam[i] > ghamar[i]:\n",
    "            return 1\n",
    "        elif gholam[i] < ghamar[i]:\n",
    "            return -1\n",
    "\n",
    "    return 0\n",
    "\n",
    "\n",
    "def python_assignment_02_q3():\n",
    "    list_of_valid_chars = ['آ', 'ا', 'ب', 'پ', 'ت', 'ث', 'ج', 'چ', 'ح', 'خ',\n",
    "                           'د', 'ذ', 'ر', 'ز', 'ژ', 'س', 'ش', 'ص', 'ض', 'ط',\n",
    "                           'ظ', 'ع', 'غ', 'ف', 'ق', 'ک', 'گ', 'ل', 'م', 'ن',\n",
    "                           'و', 'ه', 'ی', 'ئ', ' ']\n",
    "\n",
    "    # list_of_valid_chars_ascii_code = []\n",
    "\n",
    "    # for i in list_of_valid_chars:\n",
    "    #     list_of_valid_chars_ascii_code.append(ord(i))\n",
    "\n",
    "    list_of_words = []\n",
    "\n",
    "    while True:\n",
    "        line = input('Enter a persian word, please: ')\n",
    "        is_valid = True\n",
    "\n",
    "        for i in line:\n",
    "            if i not in list_of_valid_chars:\n",
    "                is_valid = False\n",
    "                break\n",
    "\n",
    "        if is_valid:\n",
    "            list_of_words.append(line)\n",
    "        else:\n",
    "            print('Invalid char find! Try another word...')\n",
    "            continue\n",
    "\n",
    "        add = input('Thank you, do you want to add another word(y/n)? ')\n",
    "        if add.lower() == 'n' or add.lower() == 'no':\n",
    "            break\n",
    "\n",
    "    from functools import cmp_to_key\n",
    "\n",
    "    list_of_words.sort(\n",
    "        key=cmp_to_key(\n",
    "            custom_comparator\n",
    "        )\n",
    "    )\n",
    "    print_list_order(list_of_words)\n",
    "    \n",
    "if __name__ == '__main__':\n",
    "    python_assignment_02_q3()"
   ]
  },
  {
   "cell_type": "markdown",
   "id": "b2b26898",
   "metadata": {},
   "source": [
    "Q4:"
   ]
  },
  {
   "cell_type": "code",
   "execution_count": null,
   "id": "7e0de504",
   "metadata": {},
   "outputs": [],
   "source": [
    "def python_assignment_02_q4():\n",
    "    lst = [\"Emma\", \"Jon\", \"\", \"Kelly\", None, \"Eric\", \"\"]\n",
    "    for i in lst:\n",
    "        if type(i) != str or len(i) == 0:\n",
    "            lst.remove(i)\n",
    "\n",
    "    print(lst)\n",
    "    \n",
    "if __name__ == '__main__':\n",
    "    python_assignment_02_q4()"
   ]
  },
  {
   "cell_type": "markdown",
   "id": "ad670e1c",
   "metadata": {},
   "source": [
    "Q5:"
   ]
  },
  {
   "cell_type": "code",
   "execution_count": null,
   "id": "1ea5bcff",
   "metadata": {},
   "outputs": [],
   "source": [
    "import random\n",
    "\n",
    "def python_assignment_02_q5(length):\n",
    "    if length < 8:\n",
    "        print('Really? is it possible? Don\\'t kidding!')\n",
    "\n",
    "    # init\n",
    "    password = ''\n",
    "    valid_chars = ['ABCDEFGHIJKLMNOPQRSTUVWXYZ', 'abcdefghijklmnopqrstuvwxyz',\n",
    "                   '0123456789', '~!@#$%^&*{}[]().']\n",
    "    upper = False\n",
    "    lower = False\n",
    "    num = False\n",
    "\n",
    "    while len(password) < length:\n",
    "        tmp = random.choice(valid_chars)\n",
    "        char = random.choice(tmp)\n",
    "\n",
    "        if char in valid_chars[0]:\n",
    "            upper = True\n",
    "        elif char in valid_chars[1]:\n",
    "            lower = True\n",
    "        elif char in valid_chars[2]:\n",
    "            num = True\n",
    "\n",
    "        password += char\n",
    "\n",
    "        if len(password) == length:\n",
    "            if not upper or not lower or not num:\n",
    "                password = ''\n",
    "\n",
    "    return password\n",
    "\n",
    "if __name__ == '__main__':\n",
    "    print(python_assignment_02_q5(16))"
   ]
  },
  {
   "cell_type": "markdown",
   "id": "38ba7f0c",
   "metadata": {},
   "source": [
    "Q6:"
   ]
  },
  {
   "cell_type": "code",
   "execution_count": null,
   "id": "ae34d47e",
   "metadata": {},
   "outputs": [],
   "source": [
    "def python_assignment_02_q6():\n",
    "    while True:\n",
    "        line = input('Enter an integer number: ')\n",
    "        try:\n",
    "            num = int(line)\n",
    "            break\n",
    "        except:\n",
    "            print('Entered value is NOT valid!...')\n",
    "\n",
    "    print(str(num) == str(num)[::-1])\n",
    "    \n",
    "if __name__ == '__main__':\n",
    "    python_assignment_02_q6()"
   ]
  },
  {
   "cell_type": "markdown",
   "id": "f683edb8",
   "metadata": {},
   "source": [
    "Q7:"
   ]
  },
  {
   "cell_type": "code",
   "execution_count": null,
   "id": "778486ba",
   "metadata": {},
   "outputs": [],
   "source": [
    "import random\n",
    "\n",
    "def python_assignment_02_q7(lst):\n",
    "    print(f'Original List: {lst}')\n",
    "    tmp = []\n",
    "    length = len(lst)\n",
    "    while len(tmp) != length:\n",
    "        choiced = random.choice(lst)\n",
    "        tmp.append(choiced)\n",
    "        lst.remove(choiced)\n",
    "\n",
    "    print(f'Ordered List: {tmp}')\n",
    "    \n",
    "if __name__ == '__main__':\n",
    "    python_assignment_02_q7([2, 4, -1, 0, 33, 2, 1])"
   ]
  },
  {
   "cell_type": "markdown",
   "id": "bacf5cbe",
   "metadata": {},
   "source": [
    "Q8:"
   ]
  },
  {
   "cell_type": "code",
   "execution_count": null,
   "id": "b3f43064",
   "metadata": {},
   "outputs": [],
   "source": [
    "'''\n",
    "0 -> first/last line\n",
    "1 -> middle lines\n",
    "'''\n",
    "def repaire(line, order):\n",
    "    start = '[0 '\n",
    "    end = ' 0]'\n",
    "    new_line = '\\n'\n",
    "\n",
    "    if order == 0:\n",
    "        tmp = ''\n",
    "        for i in range(len(line.split(' '))):\n",
    "            tmp += '0 '\n",
    "        return start + tmp.strip() + end + new_line\n",
    "    elif order == 1:\n",
    "        return start + line[1:len(line) - 1] + end + new_line\n",
    "\n",
    "\n",
    "def python_assignment_02_q8():\n",
    "    print('Start a line by [')\n",
    "    print('End a line by ]')\n",
    "    print('End of input by --')\n",
    "\n",
    "    eof = '--'\n",
    "    result = ''\n",
    "    base = ''\n",
    "\n",
    "    while True:\n",
    "        line = input()\n",
    "        if len(result) == 0:\n",
    "            base = line\n",
    "            result += repaire(line, 0)\n",
    "            result += repaire(line, 1)\n",
    "        elif line == eof:\n",
    "            result += repaire(base, 0)\n",
    "            break\n",
    "        else:\n",
    "            result += repaire(line, 1)\n",
    "\n",
    "    print(result)\n",
    "\n",
    "if __name__ == '__main__':\n",
    "    python_assignment_02_q8()"
   ]
  },
  {
   "cell_type": "markdown",
   "id": "d94a1756",
   "metadata": {},
   "source": [
    "Q9:"
   ]
  },
  {
   "cell_type": "code",
   "execution_count": null,
   "id": "4ec480ef",
   "metadata": {},
   "outputs": [],
   "source": [
    "def python_assignment_02_q9(line):\n",
    "    list_of_words = line.split()\n",
    "    important = {}\n",
    "\n",
    "    for item in list_of_words:\n",
    "        important[item] = list_of_words.count(item)\n",
    "\n",
    "    sort_words = sorted(important.items(), key=lambda x: x[1], reverse=True)\n",
    "\n",
    "    for item in sort_words:\n",
    "        if item[1] > 1:\n",
    "            print(f'word: {item[0]} -> importance: {item[1]}')\n",
    "\n",
    "if __name__ == '__main__':\n",
    "    python_assignment_02_q9('دیتا هاب یک دوره باحال ساخته که هاب هاب آدم رو درمیاره')\n"
   ]
  },
  {
   "cell_type": "markdown",
   "id": "776b7697",
   "metadata": {},
   "source": [
    "Q10: Validate Email Addresses"
   ]
  },
  {
   "cell_type": "code",
   "execution_count": null,
   "id": "b0cc4575",
   "metadata": {},
   "outputs": [],
   "source": [
    "# https://pypi.org/project/email-validator/"
   ]
  },
  {
   "cell_type": "code",
   "execution_count": null,
   "id": "eb65fbec",
   "metadata": {},
   "outputs": [],
   "source": [
    "pip install email-validator"
   ]
  },
  {
   "cell_type": "code",
   "execution_count": null,
   "id": "3dd97ba2",
   "metadata": {},
   "outputs": [],
   "source": [
    "from email_validator import validate_email, EmailNotValidError\n",
    "\n",
    "email = \"my+address@mydomain.tld\"\n",
    "\n",
    "try:\n",
    "  # Validate.\n",
    "  valid = validate_email(email)\n",
    "\n",
    "  # Update with the normalized form.\n",
    "  email = valid.email\n",
    "except EmailNotValidError as e:\n",
    "  # email is not valid, exception message is human-readable\n",
    "  print(str(e))"
   ]
  }
 ],
 "metadata": {
  "kernelspec": {
   "display_name": "Python 3 (ipykernel)",
   "language": "python",
   "name": "python3"
  },
  "language_info": {
   "codemirror_mode": {
    "name": "ipython",
    "version": 3
   },
   "file_extension": ".py",
   "mimetype": "text/x-python",
   "name": "python",
   "nbconvert_exporter": "python",
   "pygments_lexer": "ipython3",
   "version": "3.9.7"
  }
 },
 "nbformat": 4,
 "nbformat_minor": 5
}
