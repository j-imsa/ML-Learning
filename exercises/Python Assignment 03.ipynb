{
 "cells": [
  {
   "cell_type": "markdown",
   "id": "b2569ac0",
   "metadata": {},
   "source": [
    "# Data-Hub\n",
    "## python assignment 03 - Pandas\n",
    "### Iman Salehi"
   ]
  },
  {
   "cell_type": "code",
   "execution_count": null,
   "id": "de0aa104",
   "metadata": {},
   "outputs": [],
   "source": [
    "import os\n",
    "import time\n",
    "from os import listdir\n",
    "\n",
    "import numpy as np\n",
    "import pandas as pd"
   ]
  },
  {
   "cell_type": "code",
   "execution_count": null,
   "id": "3a88d16c",
   "metadata": {},
   "outputs": [],
   "source": [
    "!wget -c https://www.stats.govt.nz/assets/Uploads/Annual-enterprise-survey/Annual-enterprise-survey-2020-financial-year-provisional/Download-data/annual-enterprise-survey-2020-financial-year-provisional-size-bands-csv.csv -O sample-data.csv"
   ]
  },
  {
   "cell_type": "code",
   "execution_count": null,
   "id": "1cb0c497",
   "metadata": {},
   "outputs": [],
   "source": [
    "df = pd.read_csv('sample-data.csv')\n",
    "print(df.head())"
   ]
  },
  {
   "cell_type": "markdown",
   "id": "0193f636",
   "metadata": {},
   "source": [
    "q1"
   ]
  },
  {
   "cell_type": "code",
   "execution_count": null,
   "id": "9da690df",
   "metadata": {},
   "outputs": [],
   "source": [
    "tmp = df.copy()\n",
    "new_order_list = tmp.columns[::-1].tolist()\n",
    "print(tmp[new_order_list].head())"
   ]
  },
  {
   "cell_type": "markdown",
   "id": "c90e98e4",
   "metadata": {},
   "source": [
    "q2"
   ]
  },
  {
   "cell_type": "code",
   "execution_count": null,
   "id": "a9d76dcc",
   "metadata": {},
   "outputs": [],
   "source": [
    "print('?!')"
   ]
  },
  {
   "cell_type": "markdown",
   "id": "e38cb88c",
   "metadata": {},
   "source": [
    "q3"
   ]
  },
  {
   "cell_type": "code",
   "execution_count": null,
   "id": "66ccf918",
   "metadata": {},
   "outputs": [],
   "source": [
    "print(df.tail())\n",
    "tmp = df.iloc[::-1]\n",
    "tmp.reset_index(drop=True, inplace=True)\n",
    "# print(tmp.index)\n",
    "print(tmp.head())"
   ]
  },
  {
   "cell_type": "markdown",
   "id": "ab31032f",
   "metadata": {},
   "source": [
    "q4"
   ]
  },
  {
   "cell_type": "code",
   "execution_count": null,
   "id": "7c15fada",
   "metadata": {},
   "outputs": [],
   "source": [
    "\"\"\"\n",
    "    I believe the best approach is to:\n",
    "    1. Read documentation regarding iteration algorithms used in libraries.\n",
    "    2. Avoiding the usage of libraries since they have certain side effects, such as requiring resources to be loaded.\n",
    "    3. Use of Python low-level structures to implement the iteration mechanism\n",
    "\"\"\"\n",
    "\n",
    "tic = time.perf_counter()\n",
    "df_dict = df.to_dict()\n",
    "for key, val in df_dict.items():\n",
    "    tmp = f'{key} -> {val}'\n",
    "toc = time.perf_counter()\n",
    "print(f'Finished in {toc - tic:0.4f} seconds by Dict')\n",
    "\n",
    "tic = time.perf_counter()\n",
    "for key, val in df.iterrows():\n",
    "    tmp = f'{key} -> {val}'\n",
    "toc = time.perf_counter()\n",
    "print(f'Finished in {toc - tic:0.4f} seconds by DataFrame')\n",
    "\n",
    "# My output in pycharm:\n",
    "# Finished in 0.0578 seconds by Dict\n",
    "# Finished in 3.6781 seconds by DataFrame"
   ]
  },
  {
   "cell_type": "markdown",
   "id": "eb9bd66b",
   "metadata": {},
   "source": [
    "q5"
   ]
  },
  {
   "cell_type": "code",
   "execution_count": null,
   "id": "772efb78",
   "metadata": {},
   "outputs": [],
   "source": [
    "\"\"\"The split sequence_function divides a 1D-list to the first, a 2D-list into n groups, and then removes n count \n",
    "items from the first of the 1D-list. For the DataFrame, I'll return a list of dataframes grouped by n, \n",
    "and a dataframe with no n first element. \"\"\""
   ]
  },
  {
   "cell_type": "markdown",
   "id": "9f485a7a",
   "metadata": {},
   "source": [
    "q6"
   ]
  },
  {
   "cell_type": "code",
   "execution_count": null,
   "id": "7ebe6572",
   "metadata": {},
   "outputs": [],
   "source": [
    "path = '/tmp'\n",
    "excel_files = []\n",
    "for i in listdir(path):\n",
    "    if i[-4: ] == 'xlsx':\n",
    "        excel_files.append(path + os.path.sep + i)\n",
    "\n",
    "df = pd.DataFrame()\n",
    "for file in excel_files:\n",
    "    tmp = pd.read_excel(file, sheet_name = 'PolicyData')\n",
    "    print(tmp.shape)\n",
    "    df = pd.concat([df, tmp])\n",
    "\n",
    "print(df.head())\n",
    "print(df.shape)"
   ]
  },
  {
   "cell_type": "markdown",
   "id": "67faf4e2",
   "metadata": {},
   "source": [
    "q7"
   ]
  },
  {
   "cell_type": "code",
   "execution_count": null,
   "id": "acf6c23b",
   "metadata": {},
   "outputs": [],
   "source": [
    "path = '/tmp/sampledatainsurance.xlsx'\n",
    "df = pd.read_excel(path, sheet_name='PolicyData')\n",
    "\n",
    "for i in range(5):\n",
    "    tmp = df.sample(frac=0.2)  # where did you say 'without repetition'? :)\n",
    "    tmp.to_excel(f'/tmp/test/tmp{i + 1}.xlsx')\n",
    "\n",
    "print('ok...')"
   ]
  },
  {
   "cell_type": "markdown",
   "id": "78ac1f1d",
   "metadata": {},
   "source": [
    "q8"
   ]
  },
  {
   "cell_type": "code",
   "execution_count": null,
   "id": "78f80156",
   "metadata": {},
   "outputs": [],
   "source": [
    "print('This question reminds me of an experience! How? Typically, I utilise CSV or other simple file formats, '\n",
    "    'and if I am confronted with an IO issue, I will inquire and conduct research on best practises, '\n",
    "    'benchmarks, and so on.')\n",
    "print('Also, I discovered the \\'feather\\' format to be a great choice for storing data because it has a fast I/O '\n",
    "    'speed, doesn\\'t take up too much disc space, and doesn\\'t require any unpacking when loaded back into RAM.')"
   ]
  },
  {
   "cell_type": "markdown",
   "id": "aac52e59",
   "metadata": {},
   "source": [
    "q9"
   ]
  },
  {
   "cell_type": "code",
   "execution_count": null,
   "id": "d4472ed6",
   "metadata": {},
   "outputs": [],
   "source": [
    "def applier(row):\n",
    "    tmp = ''\n",
    "    for i in row:\n",
    "        tmp += i\n",
    "    return tmp\n",
    "\n",
    "\n",
    "def python_assignment_03_q9():\n",
    "    df = pd.DataFrame([['a', 'e', 'h'],\n",
    "                       ['b', 'f', 'i'],\n",
    "                       ['c', 'g', 'j']])\n",
    "    # df.columns = ['name1', 'name2', 'name3', 'combination']\n",
    "    df.columns = ['name1', 'name2', 'name3']\n",
    "\n",
    "    df['combination'] = df.apply(applier, axis=1)\n",
    "\n",
    "    print(df.head())\n",
    "    \n",
    "python_assignment_03_q9()"
   ]
  },
  {
   "cell_type": "markdown",
   "id": "fe2978cb",
   "metadata": {},
   "source": [
    "q10 "
   ]
  },
  {
   "cell_type": "code",
   "execution_count": null,
   "id": "8a5f8a5a",
   "metadata": {},
   "outputs": [],
   "source": [
    "print('Pivot allows you to reshape dataframes')\n",
    "\n",
    "df = pd.DataFrame({\n",
    "            'year': [1990, 2020, 2020, 2021, 2020],\n",
    "            'value': [10, 20, 30, 10, 30],\n",
    "            'unit': ['usd', 'cad', 'cad', 'cad', 'usd'],\n",
    "    })\n",
    "print(df.head())\n",
    "\n",
    "# tmp = df.pivot(index='year', columns=['unit', 'value'], values='value')\n",
    "tmp = df.pivot_table(index='year', columns='unit', values='value')\n",
    "print(tmp.head())"
   ]
  }
 ],
 "metadata": {
  "kernelspec": {
   "display_name": "Python 3 (ipykernel)",
   "language": "python",
   "name": "python3"
  },
  "language_info": {
   "codemirror_mode": {
    "name": "ipython",
    "version": 3
   },
   "file_extension": ".py",
   "mimetype": "text/x-python",
   "name": "python",
   "nbconvert_exporter": "python",
   "pygments_lexer": "ipython3",
   "version": "3.9.7"
  }
 },
 "nbformat": 4,
 "nbformat_minor": 5
}
