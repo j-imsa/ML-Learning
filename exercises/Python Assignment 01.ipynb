{
 "cells": [
  {
   "cell_type": "markdown",
   "id": "fe942a3e",
   "metadata": {},
   "source": [
    "# Data-Hub\n",
    "## python assignment 01\n",
    "### Iman Salehi"
   ]
  },
  {
   "cell_type": "markdown",
   "id": "21e8b362",
   "metadata": {},
   "source": [
    "Q1:"
   ]
  },
  {
   "cell_type": "code",
   "execution_count": null,
   "id": "e28d81ce",
   "metadata": {},
   "outputs": [],
   "source": [
    "def get_input():\n",
    "    try:\n",
    "        res = int(input('Enter an integer number: '))\n",
    "        return {'state': True, 'result': res}\n",
    "    except:\n",
    "        print('Sorry! The value entered is not supported.')\n",
    "        return {'state': False, 'result': -1}\n",
    "        \n",
    "show_min = lambda lst: lst[0]\n",
    "    \n",
    "show_max = lambda lst: lst[len(lst)-1]\n",
    "    \n",
    "def main():\n",
    "    list_of_integers = []\n",
    "    available_size = 3\n",
    "    while available_size != 0:\n",
    "        entered_value = get_input()\n",
    "        if entered_value['state']:\n",
    "            list_of_integers.append(entered_value['result'])\n",
    "            available_size -= 1\n",
    "    list_of_integers.sort()\n",
    "    print(f'Min: {show_min(list_of_integers)}')\n",
    "    print(f'Max: {show_max(list_of_integers)}')\n",
    "    \n",
    "if __name__ == '__main__':\n",
    "    main()"
   ]
  },
  {
   "cell_type": "markdown",
   "id": "5a549106",
   "metadata": {},
   "source": [
    "Q2:"
   ]
  },
  {
   "cell_type": "code",
   "execution_count": null,
   "id": "a9fb0e2c",
   "metadata": {},
   "outputs": [],
   "source": [
    "# https://docs.python.org/3/library/statistics.html\n",
    "import statistics\n",
    "\n",
    "\n",
    "\"\"\"\n",
    "target_type: 1 for int, 2 for float\n",
    "message: a suitable message according to the state\n",
    "\"\"\"\n",
    "def get_input(target_type = 1, message = 'The only thing that will be processed is numbers.'):\n",
    "    try:\n",
    "        if target_type == 1:\n",
    "            res = int(input(message))\n",
    "        elif target_type == 2:\n",
    "            res = float(input(message))\n",
    "        else:\n",
    "            raise Exception('TYPE is not supported!.')\n",
    "        return {'state': True, 'result': res}\n",
    "    except:\n",
    "        print('Sorry! The value entered is not supported.')\n",
    "        return {'state': False, 'result': -1}\n",
    "\n",
    "    \n",
    "def main():\n",
    "    \n",
    "    # get len of the list\n",
    "    len_of_list = -1\n",
    "    while True:\n",
    "        input_len_of_list = get_input(target_type = 1, message = 'Enter the length of the list: ')\n",
    "        if input_len_of_list['state']:\n",
    "            len_of_list = input_len_of_list['result']\n",
    "            break\n",
    "    \n",
    "    # fill up the list\n",
    "    lst = []\n",
    "    while len_of_list != 0:\n",
    "        input_val_of_list = get_input(target_type = 2, message = 'Enter a float number: ')\n",
    "        if input_val_of_list['state']:\n",
    "            lst.append(input_val_of_list['result'])\n",
    "            len_of_list -= 1\n",
    "\n",
    "    # show the result\n",
    "    print(f'The mean of entered list is: {statistics.mean(lst)}')\n",
    "    print(f'The mode of entered list is: {statistics.mode(lst)}')\n",
    "\n",
    "if __name__ == '__main__':    \n",
    "    main()"
   ]
  },
  {
   "cell_type": "markdown",
   "id": "7067df1c",
   "metadata": {},
   "source": [
    "Q3:"
   ]
  },
  {
   "cell_type": "code",
   "execution_count": null,
   "id": "d981465d",
   "metadata": {},
   "outputs": [],
   "source": [
    "def vowel_shower(word):\n",
    "    lst_vowels = ['a', 'e', 'i', 'o', 'u']\n",
    "    lst_numbers = [0, 1, 2, 3, 4, 5, 6, 7, 8, 9]\n",
    "    for item in word:\n",
    "        if not(item.lower() in lst_numbers) and (item.lower() in lst_vowels):\n",
    "            print(item)\n",
    "            \n",
    "def main():\n",
    "    vowel_shower(input('please enter a word!'))\n",
    "\n",
    "if __name__ == '__main__':      \n",
    "    main()    "
   ]
  },
  {
   "cell_type": "markdown",
   "id": "0bc314b7",
   "metadata": {},
   "source": [
    "Q4: "
   ]
  },
  {
   "cell_type": "code",
   "execution_count": null,
   "id": "6263c92e",
   "metadata": {},
   "outputs": [],
   "source": [
    "def check_first_and_last(word):\n",
    "    return word[0].lower() == word[len(word)-1].lower()\n",
    "\n",
    "if __name__ == '__main__':\n",
    "    print(check_first_and_last('Jafar'))\n",
    "    print(check_first_and_last('Gholam'))\n",
    "    print(check_first_and_last('Ghamarg'))\n",
    "    print(check_first_and_last('foo'))\n",
    "    print(check_first_and_last('Barb'))"
   ]
  },
  {
   "cell_type": "markdown",
   "id": "38608be5",
   "metadata": {},
   "source": [
    "Q5:"
   ]
  },
  {
   "cell_type": "code",
   "execution_count": null,
   "id": "3dc7af71",
   "metadata": {},
   "outputs": [],
   "source": [
    "def counter_substring():\n",
    "    str_first = input('Enter the first string: ')\n",
    "    str_second = input('Enter the second string: ')\n",
    "    return str_first.count(str_second)\n",
    "\n",
    "if __name__ == '__main__':\n",
    "    print(counter_substring())"
   ]
  },
  {
   "cell_type": "markdown",
   "id": "5a930496",
   "metadata": {},
   "source": [
    "Q6:"
   ]
  },
  {
   "cell_type": "code",
   "execution_count": null,
   "id": "d0146fcf",
   "metadata": {},
   "outputs": [],
   "source": [
    "def palindrome_number(num):\n",
    "    # type check:\n",
    "    if type(num) != int:\n",
    "        return {'state': False, 'result': -1, 'message': 'num is not valid.'}\n",
    "    return str(num) == str(num)[::-1]\n",
    "\n",
    "if __name__ == '__main__':\n",
    "    print(palindrome_number(121))\n",
    "    print(palindrome_number(121.2))\n",
    "    print(palindrome_number(1212))\n",
    "    print(palindrome_number('121'))"
   ]
  },
  {
   "cell_type": "markdown",
   "id": "a257d013",
   "metadata": {},
   "source": [
    "Q7:"
   ]
  },
  {
   "cell_type": "code",
   "execution_count": null,
   "id": "c700b4d8",
   "metadata": {},
   "outputs": [],
   "source": [
    "def main():\n",
    "    line = ''\n",
    "    for i in range(1, 6):\n",
    "        for j in range(1, i+1):\n",
    "            line += (str(i) + ' ')\n",
    "        line.strip()\n",
    "        print(line)\n",
    "        line = ''\n",
    "    \n",
    "    for i in range(4, 0, -1):\n",
    "        for j in range(i+1, 1, -1):\n",
    "            line += (str(i) + ' ')\n",
    "        line.strip()\n",
    "        print(line)\n",
    "        line = ''\n",
    "        \n",
    "if __name__ == '__main__':\n",
    "    main()"
   ]
  },
  {
   "cell_type": "markdown",
   "id": "ba5e9a1e",
   "metadata": {},
   "source": [
    "Q8:"
   ]
  },
  {
   "cell_type": "code",
   "execution_count": null,
   "id": "7480daad",
   "metadata": {},
   "outputs": [],
   "source": [
    "def repair_line_in_step_one(line, width):\n",
    "    space = ' '\n",
    "    if len(line) == width : return line\n",
    "    result = line\n",
    "    while len(result) <= width:\n",
    "        result = space + result\n",
    "    return result\n",
    "\n",
    "\n",
    "def repair_line_in_step_two(line, width, row):\n",
    "    space = ' '\n",
    "    if len(line) == width: return line\n",
    "    result = line[::-1].strip()\n",
    "    if row >= 1 :\n",
    "        result = width*space + result\n",
    "    return result\n",
    "\n",
    "\n",
    "def print_star():\n",
    "    chars = ['*', '#', '$']\n",
    "    space = ' '\n",
    "    new_line = '\\n'\n",
    "    result = ''\n",
    "    height = 3\n",
    "    width = 5\n",
    "\n",
    "\n",
    "    # step 01:\n",
    "    for i in range(1, height+1):\n",
    "        line = ''\n",
    "        for j in range(i):\n",
    "            line += chars[j]\n",
    "            line += space\n",
    "        line = repair_line_in_step_one(line, width) + new_line\n",
    "        result += line\n",
    "\n",
    "    # step 02: remove \\n and $\n",
    "    result = result[:len(result)-2]\n",
    "\n",
    "    # step 03:\n",
    "    for i in range(1, height+1)[::-1]:\n",
    "        line = ''\n",
    "        for j in range(i):\n",
    "            line += chars[j]\n",
    "            line += space\n",
    "        line = repair_line_in_step_two(line, width, height-i) + new_line\n",
    "        result += line[1:]\n",
    "\n",
    "    print(result)\n",
    "\n",
    "\n",
    "if __name__ == '__main__':\n",
    "    print_star()\n"
   ]
  },
  {
   "cell_type": "markdown",
   "id": "53cf60ac",
   "metadata": {},
   "source": [
    "Q9:"
   ]
  },
  {
   "cell_type": "code",
   "execution_count": null,
   "id": "2a168f30",
   "metadata": {},
   "outputs": [],
   "source": [
    "def base(num):\n",
    "    res = ''\n",
    "    while num != 0:\n",
    "        res = str(num % 3) + res\n",
    "        num = int(num / 3)\n",
    "    return res\n",
    "\n",
    "if __name__ == '__main__':\n",
    "    print(f'12 => {base(12)}')\n",
    "    print(f'4 => {base(4)}')\n",
    "    print(f'8 => {base(8)}')"
   ]
  },
  {
   "cell_type": "markdown",
   "id": "f3e73c0a",
   "metadata": {},
   "source": [
    "Q10: "
   ]
  },
  {
   "cell_type": "code",
   "execution_count": null,
   "id": "c4b1b54e",
   "metadata": {},
   "outputs": [],
   "source": [
    "def magical_function(a, b, c):\n",
    "    # check duplicated \n",
    "    if a == b or a == c or b == c : return -1\n",
    "    \n",
    "    # init values\n",
    "    a = str(a)\n",
    "    b = str(b)\n",
    "    c = str(c)\n",
    "    set_invalid = {'0', '1', '2', '3', '4', '5', '6', '7', '8', '9'}\n",
    "    set_invalid.remove(a)\n",
    "    set_invalid.remove(b)\n",
    "    set_invalid.remove(c)\n",
    "    \n",
    "    # generate number\n",
    "    for val in range(10000, 100000):\n",
    "        flag = True\n",
    "        tmp = str(val)\n",
    "        if val % 2 == 0 and a in tmp and b in tmp and c in tmp:\n",
    "            for x in tmp:\n",
    "                if x in set_invalid:\n",
    "                    flag = False\n",
    "                    break\n",
    "            if flag:\n",
    "                print(val)\n",
    "\n",
    "if __name__ == '__main__':\n",
    "    magical_function(1, 0, 9)"
   ]
  }
 ],
 "metadata": {
  "kernelspec": {
   "display_name": "Python 3 (ipykernel)",
   "language": "python",
   "name": "python3"
  },
  "language_info": {
   "codemirror_mode": {
    "name": "ipython",
    "version": 3
   },
   "file_extension": ".py",
   "mimetype": "text/x-python",
   "name": "python",
   "nbconvert_exporter": "python",
   "pygments_lexer": "ipython3",
   "version": "3.9.7"
  }
 },
 "nbformat": 4,
 "nbformat_minor": 5
}
