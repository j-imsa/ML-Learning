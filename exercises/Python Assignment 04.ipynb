{
 "cells": [
  {
   "cell_type": "markdown",
   "metadata": {
    "collapsed": true,
    "pycharm": {
     "name": "#%% md\n"
    }
   },
   "source": [
    "# Data-Hub\n",
    "## python assignment 04 - Numpy\n",
    "### Iman Salehi"
   ]
  },
  {
   "cell_type": "code",
   "execution_count": 9,
   "outputs": [],
   "source": [
    "import numpy as np\n",
    "import pandas as pd\n",
    "import time"
   ],
   "metadata": {
    "collapsed": false,
    "pycharm": {
     "name": "#%%\n"
    }
   }
  },
  {
   "cell_type": "markdown",
   "source": [
    "q1"
   ],
   "metadata": {
    "collapsed": false,
    "pycharm": {
     "name": "#%% md\n"
    }
   }
  },
  {
   "cell_type": "code",
   "execution_count": 3,
   "outputs": [
    {
     "data": {
      "text/plain": "5"
     },
     "execution_count": 3,
     "metadata": {},
     "output_type": "execute_result"
    }
   ],
   "source": [
    "tst_data = np.asarray([1, 1, 1, 2, 2, 2, 2, 2, 3, 3, 1, 1, 0, 0, 0, 5])\n",
    "tst_num = 2\n",
    "\n",
    "\n",
    "def numpy_repeat_counter(arr, num):\n",
    "    # uniq, freq = np.unique(tst_data, return_counts=True)\n",
    "    return np.where(tst_data == tst_num)[0].size\n",
    "\n",
    "\n",
    "numpy_repeat_counter(tst_data, tst_num)"
   ],
   "metadata": {
    "collapsed": false,
    "pycharm": {
     "name": "#%%\n"
    }
   }
  },
  {
   "cell_type": "markdown",
   "source": [
    "q2"
   ],
   "metadata": {
    "collapsed": false,
    "pycharm": {
     "name": "#%% md\n"
    }
   }
  },
  {
   "cell_type": "code",
   "execution_count": 4,
   "outputs": [
    {
     "data": {
      "text/plain": "   0  1  2\n0  1  2  3\n1  4  5  6",
      "text/html": "<div>\n<style scoped>\n    .dataframe tbody tr th:only-of-type {\n        vertical-align: middle;\n    }\n\n    .dataframe tbody tr th {\n        vertical-align: top;\n    }\n\n    .dataframe thead th {\n        text-align: right;\n    }\n</style>\n<table border=\"1\" class=\"dataframe\">\n  <thead>\n    <tr style=\"text-align: right;\">\n      <th></th>\n      <th>0</th>\n      <th>1</th>\n      <th>2</th>\n    </tr>\n  </thead>\n  <tbody>\n    <tr>\n      <th>0</th>\n      <td>1</td>\n      <td>2</td>\n      <td>3</td>\n    </tr>\n    <tr>\n      <th>1</th>\n      <td>4</td>\n      <td>5</td>\n      <td>6</td>\n    </tr>\n  </tbody>\n</table>\n</div>"
     },
     "execution_count": 4,
     "metadata": {},
     "output_type": "execute_result"
    }
   ],
   "source": [
    "pandas_df = pd.DataFrame([\n",
    "    [1, 2, 3],\n",
    "    [4, 5, 6]\n",
    "])\n",
    "\n",
    "numpy_arr = pandas_df.to_numpy()\n",
    "numpy_arr\n",
    "\n",
    "df_again = pd.DataFrame(\n",
    "    data=numpy_arr[0:, 0:]\n",
    ")\n",
    "df_again"
   ],
   "metadata": {
    "collapsed": false,
    "pycharm": {
     "name": "#%%\n"
    }
   }
  },
  {
   "cell_type": "markdown",
   "source": [
    "q3"
   ],
   "metadata": {
    "collapsed": false,
    "pycharm": {
     "name": "#%% md\n"
    }
   }
  },
  {
   "cell_type": "code",
   "execution_count": 5,
   "outputs": [
    {
     "data": {
      "text/plain": "0    category\n1    category\n2    category\n3    category\ndtype: object"
     },
     "execution_count": 5,
     "metadata": {},
     "output_type": "execute_result"
    }
   ],
   "source": [
    "# Is this a little hazy or difficult to understand? 'cat'-type was in pandas, and now we're going to make it in numerically based NumPy arrays!\n",
    "\n",
    "tst_data = pd.DataFrame([\n",
    "    [1, 1, 1, 2],\n",
    "    [2, 2, 2, 2],\n",
    "    [3, 3, 1, 1],\n",
    "    [0, 0, 0, 5]\n",
    "])\n",
    "tst_data.dtypes  # dtype('int64')\n",
    "\n",
    "cat_data = tst_data.astype('category')\n",
    "cat_data.dtypes\n"
   ],
   "metadata": {
    "collapsed": false,
    "pycharm": {
     "name": "#%%\n"
    }
   }
  },
  {
   "cell_type": "markdown",
   "source": [
    "q4"
   ],
   "metadata": {
    "collapsed": false,
    "pycharm": {
     "name": "#%% md\n"
    }
   }
  },
  {
   "cell_type": "code",
   "execution_count": 8,
   "outputs": [
    {
     "name": "stdout",
     "output_type": "stream",
     "text": [
      "[5 0 0 0 1 1 3 3 2 2 2 2 2 1 1 1]\n",
      "[5 0 0 0 1 1 3 3 2 2 2 2 2 1 1 1]\n"
     ]
    }
   ],
   "source": [
    "tst_data = np.asarray([1, 1, 1, 2, 2, 2, 2, 2, 3, 3, 1, 1, 0, 0, 0, 5])\n",
    "print(tst_data[::-1])\n",
    "print(np.flip(tst_data))"
   ],
   "metadata": {
    "collapsed": false,
    "pycharm": {
     "name": "#%%\n"
    }
   }
  },
  {
   "cell_type": "markdown",
   "source": [
    "q5"
   ],
   "metadata": {
    "collapsed": false,
    "pycharm": {
     "name": "#%% md\n"
    }
   }
  },
  {
   "cell_type": "code",
   "execution_count": 19,
   "outputs": [
    {
     "name": "stdout",
     "output_type": "stream",
     "text": [
      "Finished in 1.5674 seconds by List\n",
      "Finished in 0.0357 seconds by Numpy Array\n"
     ]
    }
   ],
   "source": [
    "#  List\n",
    "tic = time.perf_counter()\n",
    "num = 10000000\n",
    "lst1 = range(num)\n",
    "lst2 = range(num)\n",
    "lst3 = []\n",
    "for a, b in zip(lst1, lst2):\n",
    "    lst3.append(a*b)\n",
    "toc = time.perf_counter()\n",
    "print(f'Finished in {toc - tic:0.4f} seconds by List')\n",
    "\n",
    "#  Numpy Array\n",
    "tic = time.perf_counter()\n",
    "np_list1 = np.arange(num)\n",
    "np_list2 = np.arange(num)\n",
    "np_list3 = np_list1 * np_list2\n",
    "toc = time.perf_counter()\n",
    "print(f'Finished in {toc - tic:0.4f} seconds by Numpy Array')"
   ],
   "metadata": {
    "collapsed": false,
    "pycharm": {
     "name": "#%%\n"
    }
   }
  }
 ],
 "metadata": {
  "kernelspec": {
   "display_name": "Python 3",
   "language": "python",
   "name": "python3"
  },
  "language_info": {
   "codemirror_mode": {
    "name": "ipython",
    "version": 2
   },
   "file_extension": ".py",
   "mimetype": "text/x-python",
   "name": "python",
   "nbconvert_exporter": "python",
   "pygments_lexer": "ipython2",
   "version": "2.7.6"
  }
 },
 "nbformat": 4,
 "nbformat_minor": 0
}